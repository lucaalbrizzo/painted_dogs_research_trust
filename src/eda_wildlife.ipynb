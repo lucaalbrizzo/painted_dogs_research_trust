{
 "cells": [
  {
   "cell_type": "code",
   "execution_count": null,
   "metadata": {},
   "outputs": [],
   "source": [
    "import os\n",
    "import pandas as pd\n",
    "import helper\n",
    "from datetime import date\n",
    "from datetime import datetime\n",
    "import numpy as np\n",
    "import matplotlib.pyplot as plt\n",
    "import seaborn as sns"
   ]
  },
  {
   "cell_type": "markdown",
   "metadata": {},
   "source": [
    "# Upload wildlife_newdata"
   ]
  },
  {
   "cell_type": "code",
   "execution_count": null,
   "metadata": {},
   "outputs": [],
   "source": [
    "cols_date = [\"entered_date\", \"date_time\"]\n",
    "newdata = helper.upload_csv(\"cleaned_wildlife_newdata.csv\", cols_date)"
   ]
  },
  {
   "cell_type": "code",
   "execution_count": null,
   "metadata": {},
   "outputs": [],
   "source": [
    "newdata.info()"
   ]
  },
  {
   "cell_type": "markdown",
   "metadata": {},
   "source": [
    "# Check for duplicates"
   ]
  },
  {
   "cell_type": "code",
   "execution_count": null,
   "metadata": {},
   "outputs": [],
   "source": [
    "# cols_to_check = [\"image_name\", \"date_time\"]\n",
    "# dfn = (newdata[newdata.duplicated(subset=cols_to_check, keep=False)]\n",
    "#        .iloc[:,0:18]\n",
    "#        .sort_values(by=cols_to_check)\n",
    "#        .tail(51)\n",
    "# )\n",
    "# dfn\n",
    "\n",
    "## is record_number unique? no\n",
    "## is image_name unique? no\n",
    "## is image_name, date_time unique? no"
   ]
  },
  {
   "cell_type": "code",
   "execution_count": null,
   "metadata": {},
   "outputs": [],
   "source": [
    "# make image_date and date_time as primary key\n",
    "cols_to_check = [\"image_name\", \"date_time\"]\n",
    "newdata = newdata.drop_duplicates(cols_to_check, ignore_index=True)"
   ]
  },
  {
   "cell_type": "markdown",
   "metadata": {},
   "source": [
    "# Subset wildlife data"
   ]
  },
  {
   "cell_type": "code",
   "execution_count": null,
   "metadata": {},
   "outputs": [],
   "source": [
    "cols = [\n",
    "    \"image_name\",\n",
    "    \"date_time\",\n",
    "    \"temperature\",\n",
    "    \"moon_phase\",\n",
    "    \"species_category\",\n",
    "    \"species_category_2\",\n",
    "    \"carnivore\",\n",
    "    \"herbivore\",\n",
    "    \"insectivore\",\n",
    "    \"omnivore\",\n",
    "    \"bird\",\n",
    "]\n",
    "newdata = newdata[cols]"
   ]
  },
  {
   "cell_type": "code",
   "execution_count": null,
   "metadata": {},
   "outputs": [],
   "source": [
    "## check whether \"species_category\" is reliable to identify animal types\n",
    "# newdata[newdata[\"species_category\"] == \"carnivore\"][\"herbivore\"].value_counts()"
   ]
  },
  {
   "cell_type": "code",
   "execution_count": null,
   "metadata": {},
   "outputs": [],
   "source": [
    "# check whether there are images that identify more than one type of animals\n",
    "# carni = newdata[~newdata[\"carnivore\"].isnull()]\n",
    "# carni[~carni[\"herbivore\"].isnull()]"
   ]
  },
  {
   "cell_type": "code",
   "execution_count": null,
   "metadata": {},
   "outputs": [],
   "source": [
    "newdata = newdata.drop(columns=[\"species_category\", \"species_category_2\"])"
   ]
  },
  {
   "cell_type": "code",
   "execution_count": null,
   "metadata": {},
   "outputs": [],
   "source": [
    "newdata = newdata.dropna(subset=[\"date_time\"])"
   ]
  },
  {
   "cell_type": "code",
   "execution_count": null,
   "metadata": {},
   "outputs": [],
   "source": [
    "newdata[\"image_date\"] = newdata[\"date_time\"].dt.date\n",
    "newdata[\"image_hr\"] = newdata[\"date_time\"].dt.hour\n",
    "newdata[\"image_yr\"] = newdata[\"date_time\"].dt.year"
   ]
  },
  {
   "cell_type": "code",
   "execution_count": null,
   "metadata": {},
   "outputs": [],
   "source": [
    "newdata = newdata[~(newdata[\"image_date\"] == date(1900, 1, 7))]\n",
    "newdata[\"image_date\"] = pd.to_datetime(newdata[\"image_date\"])\n",
    "newdata = newdata[~(newdata[\"image_yr\"] == 2029)]"
   ]
  },
  {
   "cell_type": "code",
   "execution_count": null,
   "metadata": {},
   "outputs": [],
   "source": [
    "newdata"
   ]
  },
  {
   "cell_type": "markdown",
   "metadata": {},
   "source": [
    "# Reshape data"
   ]
  },
  {
   "cell_type": "code",
   "execution_count": null,
   "metadata": {},
   "outputs": [],
   "source": [
    "newdata_tidy = newdata.copy()"
   ]
  },
  {
   "cell_type": "code",
   "execution_count": null,
   "metadata": {},
   "outputs": [],
   "source": [
    "def classify_animals(row):\n",
    "    if not pd.isna(row[\"carnivore\"]):\n",
    "        return \"carnivore\"\n",
    "    elif not pd.isna(row[\"herbivore\"]):\n",
    "        return \"herbivore\"\n",
    "    elif not pd.isna(row[\"insectivore\"]):\n",
    "        return \"insectivore\"\n",
    "    elif not pd.isna(row[\"omnivore\"]):\n",
    "        return \"omnivore\"\n",
    "    elif not pd.isna(row[\"bird\"]):\n",
    "        return \"bird\"\n",
    "    return pd.NA\n",
    "\n",
    "\n",
    "def map_animals(row):\n",
    "    if not pd.isna(row[\"carnivore\"]):\n",
    "        return row[\"carnivore\"]\n",
    "    elif not pd.isna(row[\"herbivore\"]):\n",
    "        return row[\"herbivore\"]\n",
    "    elif not pd.isna(row[\"insectivore\"]):\n",
    "        return row[\"insectivore\"]\n",
    "    elif not pd.isna(row[\"omnivore\"]):\n",
    "        return row[\"omnivore\"]\n",
    "    elif not pd.isna(row[\"bird\"]):\n",
    "        return row[\"bird\"]\n",
    "    return pd.NA"
   ]
  },
  {
   "cell_type": "code",
   "execution_count": null,
   "metadata": {},
   "outputs": [],
   "source": [
    "newdata_tidy[\"anim_type\"] = newdata_tidy.apply(\n",
    "    lambda row: classify_animals(row), axis=1\n",
    ")\n",
    "newdata_tidy[\"anim_spotted\"] = newdata_tidy.apply(lambda row: map_animals(row), axis=1)"
   ]
  },
  {
   "cell_type": "code",
   "execution_count": null,
   "metadata": {},
   "outputs": [],
   "source": [
    "# newdata[newdata[\"anim_spotted\"].isna()]\n",
    "newdata_tidy = newdata_tidy.dropna(subset=\"anim_spotted\")\n",
    "cols_to_drop = [\"carnivore\", \"herbivore\", \"insectivore\", \"omnivore\", \"bird\"]\n",
    "newdata_tidy = newdata_tidy.drop(columns=cols_to_drop)\n",
    "newdata_tidy"
   ]
  },
  {
   "cell_type": "code",
   "execution_count": null,
   "metadata": {},
   "outputs": [],
   "source": [
    "newdata_tidy[\"anim_spotted\"] = newdata_tidy[\"anim_spotted\"].apply(\n",
    "    lambda x: x[4:].replace(\"spotted\", \"\").strip()\n",
    ")"
   ]
  },
  {
   "cell_type": "code",
   "execution_count": null,
   "metadata": {},
   "outputs": [],
   "source": [
    "newdata_tidy.head()"
   ]
  },
  {
   "cell_type": "markdown",
   "metadata": {},
   "source": [
    "## Export tidy data"
   ]
  },
  {
   "cell_type": "code",
   "execution_count": null,
   "metadata": {},
   "outputs": [],
   "source": [
    "SAVE_DIR = \"../data\"\n",
    "os.makedirs(SAVE_DIR, exist_ok=True)\n",
    "FILE_NAME = \"tidy_wildlife_newdata.csv\"\n",
    "path = os.path.join(SAVE_DIR, FILE_NAME)\n",
    "newdata_tidy.to_csv(path, index=False, date_format=\"%Y-%m-%d %H:%M:%S\")"
   ]
  },
  {
   "cell_type": "markdown",
   "metadata": {},
   "source": [
    "# Animal activities: Overview"
   ]
  },
  {
   "cell_type": "code",
   "execution_count": null,
   "metadata": {},
   "outputs": [],
   "source": [
    "sns.set_style(\"whitegrid\")"
   ]
  },
  {
   "cell_type": "code",
   "execution_count": null,
   "metadata": {},
   "outputs": [],
   "source": [
    "## animal activities for all years, subset by animal types\n",
    "subset_anim = [\"carnivore\", \"herbivore\", \"omnivore\"]\n",
    "g = sns.catplot(\n",
    "    data=newdata_tidy.query(\"anim_type in @subset_anim\"),\n",
    "    kind=\"count\",\n",
    "    y=\"anim_spotted\",\n",
    "    col=\"anim_type\",\n",
    "    col_wrap=2,\n",
    "    sharey=False,\n",
    "    color=\"tab:olive\",\n",
    ")\n",
    "# g.set_xticklabels(rotation=90)"
   ]
  },
  {
   "cell_type": "code",
   "execution_count": null,
   "metadata": {},
   "outputs": [],
   "source": [
    "## animal activities, subset by years and animal types\n",
    "subset_anim = [\"carnivore\", \"herbivore\", \"omnivore\"]\n",
    "subset_year = [2020, 2021, 2022, 2019]\n",
    "g = sns.catplot(\n",
    "    data=newdata_tidy.query(\"anim_type in @subset_anim and image_yr in @subset_year\"),\n",
    "    kind=\"count\",\n",
    "    y=\"anim_spotted\",\n",
    "    col=\"anim_type\",\n",
    "    col_wrap=2,\n",
    "    sharey=False,\n",
    "    sharex=False,\n",
    "    color=\"orange\",\n",
    ")"
   ]
  },
  {
   "cell_type": "markdown",
   "metadata": {},
   "source": [
    "# Animal activities: Comparison"
   ]
  },
  {
   "cell_type": "code",
   "execution_count": null,
   "metadata": {},
   "outputs": [],
   "source": [
    "## animal activities, compare two years, subset by animal types\n",
    "subset_anim = [\"carnivore\", \"herbivore\", \"omnivore\"]\n",
    "subset_year = [2020, 2019]\n",
    "g = sns.catplot(\n",
    "    data=newdata_tidy.query(\"anim_type in @subset_anim and image_yr in @subset_year\"),\n",
    "    kind=\"count\",\n",
    "    y=\"anim_spotted\",\n",
    "    col=\"anim_type\",\n",
    "    col_wrap=2,\n",
    "    sharey=False,\n",
    "    sharex=False,\n",
    "    hue=\"image_yr\",\n",
    "    palette=sns.color_palette(\"colorblind\", n_colors=2),\n",
    ")"
   ]
  },
  {
   "cell_type": "markdown",
   "metadata": {},
   "source": [
    "# Animal activities by moon phase"
   ]
  },
  {
   "cell_type": "markdown",
   "metadata": {},
   "source": [
    "## Generate df to download"
   ]
  },
  {
   "cell_type": "code",
   "execution_count": null,
   "metadata": {},
   "outputs": [],
   "source": [
    "subset_anim = [\"herbivore\"]\n",
    "df = (\n",
    "    newdata_tidy.query(\"anim_type in @subset_anim\")\n",
    "    .groupby(\"moon_phase\")[\"anim_spotted\"]\n",
    "    .value_counts()\n",
    "    .to_frame()\n",
    ")\n",
    "df_tidy = df.reset_index()\n",
    "df_tidy.head()"
   ]
  },
  {
   "cell_type": "code",
   "execution_count": null,
   "metadata": {},
   "outputs": [],
   "source": [
    "g = sns.catplot(\n",
    "    data=df_tidy,\n",
    "    x=\"count\",\n",
    "    y=\"moon_phase\",\n",
    "    hue=\"anim_spotted\",\n",
    "    palette=sns.color_palette(\"colorblind\"),\n",
    ")"
   ]
  },
  {
   "cell_type": "code",
   "execution_count": null,
   "metadata": {},
   "outputs": [],
   "source": [
    "def anim_df_to_download(df_raw, sub_anim, sub_yr, group):\n",
    "    anim = sub_anim\n",
    "    yr = sub_yr\n",
    "    df = (\n",
    "        df_raw.query(\"anim_type in @anim and image_yr in @yr\")\n",
    "        .groupby(group)[\"anim_spotted\"]\n",
    "        .value_counts()\n",
    "        .to_frame()\n",
    "    )\n",
    "    df_tidy = df.reset_index()\n",
    "    return df_tidy"
   ]
  },
  {
   "cell_type": "code",
   "execution_count": null,
   "metadata": {},
   "outputs": [],
   "source": [
    "subset_anim = [\"herbivore\"]\n",
    "subset_year = [2020, 2019, 2021, 2022]\n",
    "df = anim_df_to_download(newdata_tidy, subset_anim, subset_year, group=\"moon_phase\")\n",
    "df.head(15)"
   ]
  },
  {
   "cell_type": "code",
   "execution_count": null,
   "metadata": {},
   "outputs": [],
   "source": [
    "# subset_anim = [\"herbivore\"]\n",
    "# subset_year = [2020, 2019, 2021]\n",
    "# df = newdata_tidy.query('anim_type in @subset_anim and image_yr in @subset_year').groupby(\"moon_phase\")[\"anim_spotted\"].value_counts().to_frame()\n",
    "# df_tidy = df.reset_index()\n",
    "# df_tidy.head(25)"
   ]
  },
  {
   "cell_type": "code",
   "execution_count": null,
   "metadata": {},
   "outputs": [],
   "source": [
    "g = sns.catplot(\n",
    "    data=df,\n",
    "    x=\"count\",\n",
    "    y=\"moon_phase\",\n",
    "    hue=\"anim_spotted\",\n",
    "    palette=sns.color_palette(\"colorblind\"),\n",
    ")"
   ]
  },
  {
   "cell_type": "markdown",
   "metadata": {},
   "source": [
    "## Generate heatmap"
   ]
  },
  {
   "cell_type": "code",
   "execution_count": null,
   "metadata": {},
   "outputs": [],
   "source": [
    "subset_anim = [\"herbivore\"]\n",
    "subset_year = [2020, 2019, 2021, 2022]\n",
    "df = newdata_tidy.query(\"anim_type in @subset_anim and image_yr in @subset_year\")\n",
    "df_crosstab = pd.crosstab(df[\"anim_spotted\"], df[\"moon_phase\"])\n",
    "sns.heatmap(df_crosstab, annot=True, fmt=\"d\", cmap=\"YlGnBu\", linewidths=0.15)"
   ]
  },
  {
   "cell_type": "markdown",
   "metadata": {},
   "source": [
    "# Animal activities by time of day"
   ]
  },
  {
   "cell_type": "markdown",
   "metadata": {},
   "source": [
    "## Generate df to download"
   ]
  },
  {
   "cell_type": "code",
   "execution_count": null,
   "metadata": {},
   "outputs": [],
   "source": [
    "subset_anim = [\"herbivore\"]\n",
    "subset_year = [2020, 2019, 2021]\n",
    "df = anim_df_to_download(newdata_tidy, subset_anim, subset_year, group=\"image_hr\")\n",
    "df.head()"
   ]
  },
  {
   "cell_type": "code",
   "execution_count": null,
   "metadata": {},
   "outputs": [],
   "source": [
    "subset_anim = [\"herbivore\", \"carnivore\", \"omnivore\"]\n",
    "subset_year = [2020, 2019, 2021]\n",
    "df = (\n",
    "    newdata_tidy.query(\"anim_type in @subset_anim and image_yr in @subset_year\")\n",
    "    .groupby([\"image_hr\"])[\"anim_type\"]\n",
    "    .value_counts()\n",
    "    .to_frame()\n",
    ")\n",
    "df_tidy = df.reset_index()\n",
    "df_tidy.head()"
   ]
  },
  {
   "cell_type": "code",
   "execution_count": null,
   "metadata": {},
   "outputs": [],
   "source": [
    "sns.set_style(\"ticks\")\n",
    "g = sns.relplot(\n",
    "    data=df_tidy,\n",
    "    x=\"image_hr\",\n",
    "    y=\"count\",\n",
    "    kind=\"line\",\n",
    "    hue=\"anim_type\",\n",
    "    style=\"anim_type\",\n",
    ")"
   ]
  },
  {
   "cell_type": "markdown",
   "metadata": {},
   "source": [
    "# Animal activities by date"
   ]
  },
  {
   "cell_type": "code",
   "execution_count": null,
   "metadata": {},
   "outputs": [],
   "source": [
    "subset_anim = [\"herbivore\", \"carnivore\", \"omnivore\"]\n",
    "subset_year = [2020]\n",
    "df = (\n",
    "    newdata_tidy.query(\"anim_type in @subset_anim and image_yr in @subset_year\")\n",
    "    .groupby([\"image_date\"])[\"anim_type\"]\n",
    "    .value_counts()\n",
    "    .to_frame()\n",
    ")\n",
    "df_tidy = df.reset_index()\n",
    "g = sns.relplot(\n",
    "    data=df_tidy,\n",
    "    x=\"image_date\",\n",
    "    y=\"count\",\n",
    "    kind=\"scatter\",\n",
    "    markers=True,\n",
    "    alpha=0.5,\n",
    "    col=\"anim_type\",\n",
    "    hue=\"anim_type\",\n",
    "    facet_kws=dict(sharey=False),\n",
    ")\n",
    "(\n",
    "    g.set_axis_labels(\"Date\", \"Count of species spotted\").set_titles(\n",
    "        \"Animal type: {col_name}\"\n",
    "    )\n",
    ")"
   ]
  },
  {
   "cell_type": "markdown",
   "metadata": {},
   "source": [
    "# Animal activities by temperature"
   ]
  },
  {
   "cell_type": "code",
   "execution_count": null,
   "metadata": {},
   "outputs": [],
   "source": [
    "subset_anim = [\"herbivore\", \"carnivore\", \"omnivore\"]\n",
    "subset_year = [2019, 2020, 2021]\n",
    "df = (\n",
    "    newdata_tidy.query(\"anim_type in @subset_anim and image_yr in @subset_year\")\n",
    "    .groupby([\"temperature\"])[\"anim_type\"]\n",
    "    .value_counts()\n",
    "    .to_frame()\n",
    "    .reset_index()\n",
    ")\n",
    "df"
   ]
  },
  {
   "cell_type": "code",
   "execution_count": null,
   "metadata": {},
   "outputs": [],
   "source": [
    "g = sns.relplot(\n",
    "    data=df,\n",
    "    x=\"temperature\",\n",
    "    y=\"count\",\n",
    "    kind=\"scatter\",\n",
    "    hue=\"anim_type\",\n",
    "    col=\"anim_type\",\n",
    "    col_wrap=2,\n",
    "    palette=sns.color_palette(\"colorblind\"),\n",
    "    legend=False,\n",
    ")\n",
    "(\n",
    "    g.set_axis_labels(\"Temperature (Celcius)\", \"Count of species spotted\").set_titles(\n",
    "        \"Animal type: {col_name}\"\n",
    "    )\n",
    ")"
   ]
  }
 ],
 "metadata": {
  "kernelspec": {
   "display_name": "venv",
   "language": "python",
   "name": "python3"
  },
  "language_info": {
   "codemirror_mode": {
    "name": "ipython",
    "version": 3
   },
   "file_extension": ".py",
   "mimetype": "text/x-python",
   "name": "python",
   "nbconvert_exporter": "python",
   "pygments_lexer": "ipython3",
   "version": "3.9.18"
  }
 },
 "nbformat": 4,
 "nbformat_minor": 2
}
