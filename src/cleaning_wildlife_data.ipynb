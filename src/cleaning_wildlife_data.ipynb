{
 "cells": [
  {
   "cell_type": "code",
   "execution_count": null,
   "metadata": {},
   "outputs": [],
   "source": [
    "import os\n",
    "import pandas as pd\n",
    "import numpy as np\n",
    "import helper\n",
    "import datetime"
   ]
  },
  {
   "cell_type": "markdown",
   "metadata": {},
   "source": [
    "# Upload wildlife passage data"
   ]
  },
  {
   "cell_type": "code",
   "execution_count": null,
   "metadata": {},
   "outputs": [],
   "source": [
    "FILE_NAME = \"GR merged  CT All with OC Master PDRT  Camera Trap Data Sheet.xlsx\"\n",
    "FILE_PATH = os.path.join(\"..\", \"data\", FILE_NAME)\n",
    "SHEET_NAMES = [\"Newdata\", \"17-22\"]\n",
    "wildlife_raw = pd.read_excel(FILE_PATH, sheet_name=SHEET_NAMES)"
   ]
  },
  {
   "cell_type": "code",
   "execution_count": null,
   "metadata": {},
   "outputs": [],
   "source": [
    "# extract datasets\n",
    "wl_newdata_raw = wildlife_raw[\"Newdata\"]\n",
    "wl_1722_raw = wildlife_raw[\"17-22\"]"
   ]
  },
  {
   "cell_type": "markdown",
   "metadata": {},
   "source": [
    "# Clean *newdata*"
   ]
  },
  {
   "cell_type": "code",
   "execution_count": null,
   "metadata": {},
   "outputs": [],
   "source": [
    "# wl_newdata_raw.tail()"
   ]
  },
  {
   "cell_type": "markdown",
   "metadata": {},
   "source": [
    "## Remove irrelevant columns"
   ]
  },
  {
   "cell_type": "code",
   "execution_count": null,
   "metadata": {},
   "outputs": [],
   "source": [
    "# wl_newdata_raw.columns"
   ]
  },
  {
   "cell_type": "code",
   "execution_count": null,
   "metadata": {},
   "outputs": [],
   "source": [
    "# check for empty columns\n",
    "# wl_newdata_raw.isnull().sum()"
   ]
  },
  {
   "cell_type": "code",
   "execution_count": null,
   "metadata": {},
   "outputs": [],
   "source": [
    "# wl_newdata_raw.shape"
   ]
  },
  {
   "cell_type": "code",
   "execution_count": null,
   "metadata": {},
   "outputs": [],
   "source": [
    "# drop columns with prefix Unnamed\n",
    "wl_newdata_raw = helper.drop_cols_with_prefix(wl_newdata_raw, \"Unnamed:\")"
   ]
  },
  {
   "cell_type": "code",
   "execution_count": null,
   "metadata": {},
   "outputs": [],
   "source": [
    "# drop empty columns\n",
    "wl_newdata_raw = wl_newdata_raw.dropna(axis=1, how=\"all\")"
   ]
  },
  {
   "cell_type": "markdown",
   "metadata": {},
   "source": [
    "## Clean up column names"
   ]
  },
  {
   "cell_type": "code",
   "execution_count": null,
   "metadata": {},
   "outputs": [],
   "source": [
    "# remove special character and trailing spaces in column names\n",
    "wl_newdata_raw = helper.remove_spaces_in_colnames(wl_newdata_raw)"
   ]
  },
  {
   "cell_type": "code",
   "execution_count": null,
   "metadata": {},
   "outputs": [],
   "source": [
    "# wl_newdata_raw.columns"
   ]
  },
  {
   "cell_type": "code",
   "execution_count": null,
   "metadata": {},
   "outputs": [],
   "source": [
    "col_renames = {\n",
    "    \"Student/Volunteer\": \"student_or_volunteer\",\n",
    "    \"open/closed\": \"open_or_closed\",\n",
    "    \"DateTime\": \"date_time\",\n",
    "    \"AM,PM,ML\": \"am_pm_ml\",\n",
    "    \"Species Category2\": \"species_category_2\",\n",
    "    \"Checker Initials & Date\": \"checker_initials_and_date\",\n",
    "    \"Non-Animal\": \"non_animal\",\n",
    "}"
   ]
  },
  {
   "cell_type": "code",
   "execution_count": null,
   "metadata": {},
   "outputs": [],
   "source": [
    "wl_newdata_raw = wl_newdata_raw.rename(columns=col_renames)"
   ]
  },
  {
   "cell_type": "code",
   "execution_count": null,
   "metadata": {},
   "outputs": [],
   "source": [
    "wl_newdata_raw = helper.snake_style_colnames(wl_newdata_raw)"
   ]
  },
  {
   "cell_type": "code",
   "execution_count": null,
   "metadata": {},
   "outputs": [],
   "source": [
    "# wl_newdata_raw.columns"
   ]
  },
  {
   "cell_type": "markdown",
   "metadata": {},
   "source": [
    "## Cleanup by columns"
   ]
  },
  {
   "cell_type": "code",
   "execution_count": null,
   "metadata": {},
   "outputs": [],
   "source": [
    "# wl_newdata_raw.info()"
   ]
  },
  {
   "cell_type": "markdown",
   "metadata": {},
   "source": [
    "### col: record_number"
   ]
  },
  {
   "cell_type": "code",
   "execution_count": null,
   "metadata": {},
   "outputs": [],
   "source": [
    "wl_newdata_raw[\"record_number\"] = wl_newdata_raw[\"record_number\"].astype(\"Int64\")"
   ]
  },
  {
   "cell_type": "code",
   "execution_count": null,
   "metadata": {},
   "outputs": [],
   "source": [
    "# wl_newdata_raw['record_number']"
   ]
  },
  {
   "cell_type": "code",
   "execution_count": null,
   "metadata": {},
   "outputs": [],
   "source": [
    "# helper.check_range(wl_newdata_raw['record_number'])"
   ]
  },
  {
   "cell_type": "code",
   "execution_count": null,
   "metadata": {},
   "outputs": [],
   "source": [
    "# helper.check_missing_values(wl_newdata_raw['record_number'])"
   ]
  },
  {
   "cell_type": "code",
   "execution_count": null,
   "metadata": {},
   "outputs": [],
   "source": [
    "# helper.find_duplicate_rows(wl_newdata_raw,['record_number'])"
   ]
  },
  {
   "cell_type": "code",
   "execution_count": null,
   "metadata": {},
   "outputs": [],
   "source": [
    "# record_number_dups = helper.find_duplicate_rows(wl_newdata_raw[['record_number']])\n",
    "# record_number_dups.sort_values(by='record_number').head(20)"
   ]
  },
  {
   "cell_type": "code",
   "execution_count": null,
   "metadata": {},
   "outputs": [],
   "source": [
    "# take a closer look at one of duplicates record number\n",
    "# wl_newdata_raw[wl_newdata_raw['record_number'] == 1]"
   ]
  },
  {
   "cell_type": "markdown",
   "metadata": {},
   "source": [
    "### col: camera_trap"
   ]
  },
  {
   "cell_type": "code",
   "execution_count": null,
   "metadata": {},
   "outputs": [],
   "source": [
    "# check value consistency\n",
    "# wl_newdata_raw.camera_trap.unique()"
   ]
  },
  {
   "cell_type": "code",
   "execution_count": null,
   "metadata": {},
   "outputs": [],
   "source": [
    "# helper.check_missing_values(wl_newdata_raw['camera_trap'])"
   ]
  },
  {
   "cell_type": "code",
   "execution_count": null,
   "metadata": {},
   "outputs": [],
   "source": [
    "wl_newdata_raw[\"camera_trap\"] = wl_newdata_raw[\"camera_trap\"].apply(\n",
    "    lambda x: helper.clean_camera_trap(x)\n",
    ")"
   ]
  },
  {
   "cell_type": "code",
   "execution_count": null,
   "metadata": {},
   "outputs": [],
   "source": [
    "# wl_newdata_raw['camera_trap'].unique()"
   ]
  },
  {
   "cell_type": "markdown",
   "metadata": {},
   "source": [
    "### col: entered_date"
   ]
  },
  {
   "cell_type": "code",
   "execution_count": null,
   "metadata": {},
   "outputs": [],
   "source": [
    "# wl_newdata_raw.entered_date.info()"
   ]
  },
  {
   "cell_type": "code",
   "execution_count": null,
   "metadata": {},
   "outputs": [],
   "source": [
    "# helper.check_missing_values(wl_newdata_raw['entered_date'])"
   ]
  },
  {
   "cell_type": "code",
   "execution_count": null,
   "metadata": {},
   "outputs": [],
   "source": [
    "# wl_newdata_raw['entered_date'].unique()"
   ]
  },
  {
   "cell_type": "code",
   "execution_count": null,
   "metadata": {},
   "outputs": [],
   "source": [
    "wl_newdata_raw[\"entered_date\"] = wl_newdata_raw[\"entered_date\"].apply(\n",
    "    lambda x: helper.remove_nondatetime(x)\n",
    ")"
   ]
  },
  {
   "cell_type": "code",
   "execution_count": null,
   "metadata": {},
   "outputs": [],
   "source": [
    "# wl_newdata_raw['entered_date'].info() # recheck"
   ]
  },
  {
   "cell_type": "markdown",
   "metadata": {},
   "source": [
    "### col: student_or_volunteer"
   ]
  },
  {
   "cell_type": "code",
   "execution_count": null,
   "metadata": {},
   "outputs": [],
   "source": [
    "# wl_newdata_raw['student_or_volunteer'].info()"
   ]
  },
  {
   "cell_type": "code",
   "execution_count": null,
   "metadata": {},
   "outputs": [],
   "source": [
    "# wl_newdata_raw['student_or_volunteer'].unique()"
   ]
  },
  {
   "cell_type": "code",
   "execution_count": null,
   "metadata": {},
   "outputs": [],
   "source": [
    "wl_newdata_raw[\"student_or_volunteer\"] = (\n",
    "    wl_newdata_raw[\"student_or_volunteer\"].str.strip().str.upper()\n",
    ")\n",
    "\n",
    "names_mapping = {\n",
    "    \"EMELIA\": \"EMELIA NGWENYA\",\n",
    "    \"MACSTALIYN\": \"MACSTALIYN TABUYA\",\n",
    "    \"MACSTALIYN T\": \"MACSTALIYN TABUYA\",\n",
    "    \"JONATHAN\": \"JONATHAN MTETWA\",\n",
    "}\n",
    "\n",
    "wl_newdata_raw[\"student_or_volunteer\"] = wl_newdata_raw[\"student_or_volunteer\"].replace(\n",
    "    names_mapping\n",
    ")"
   ]
  },
  {
   "cell_type": "markdown",
   "metadata": {},
   "source": [
    "### col: first_image"
   ]
  },
  {
   "cell_type": "code",
   "execution_count": null,
   "metadata": {},
   "outputs": [],
   "source": [
    "# wl_newdata_raw['first_image'].info()"
   ]
  },
  {
   "cell_type": "code",
   "execution_count": null,
   "metadata": {},
   "outputs": [],
   "source": [
    "# wl_newdata_raw['first_image'].unique()"
   ]
  },
  {
   "cell_type": "code",
   "execution_count": null,
   "metadata": {},
   "outputs": [],
   "source": [
    "wl_newdata_raw[\"first_image\"] = wl_newdata_raw[\"first_image\"].str.strip()\n",
    "\n",
    "fimage_mapping = {\"None\": np.nan, \"none\": np.nan}\n",
    "\n",
    "wl_newdata_raw[\"first_image\"] = wl_newdata_raw[\"first_image\"].replace(fimage_mapping)"
   ]
  },
  {
   "cell_type": "markdown",
   "metadata": {},
   "source": [
    "### col: open_or_closed"
   ]
  },
  {
   "cell_type": "code",
   "execution_count": null,
   "metadata": {},
   "outputs": [],
   "source": [
    "# wl_newdata_raw['open_or_closed'].info()"
   ]
  },
  {
   "cell_type": "code",
   "execution_count": null,
   "metadata": {},
   "outputs": [],
   "source": [
    "# wl_newdata_raw['open_or_closed'].unique()"
   ]
  },
  {
   "cell_type": "code",
   "execution_count": null,
   "metadata": {},
   "outputs": [],
   "source": [
    "wl_newdata_raw[\"open_or_closed\"] = (\n",
    "    wl_newdata_raw[\"open_or_closed\"].str.strip().str.upper()\n",
    ")"
   ]
  },
  {
   "cell_type": "markdown",
   "metadata": {},
   "source": [
    "### col: image_name"
   ]
  },
  {
   "cell_type": "code",
   "execution_count": null,
   "metadata": {},
   "outputs": [],
   "source": [
    "# wl_newdata_raw['image_name'].info()"
   ]
  },
  {
   "cell_type": "code",
   "execution_count": null,
   "metadata": {},
   "outputs": [],
   "source": [
    "# helper.check_missing_values(wl_newdata_raw['image_name'])"
   ]
  },
  {
   "cell_type": "code",
   "execution_count": null,
   "metadata": {},
   "outputs": [],
   "source": [
    "# wl_newdata_raw['image_name'].tail(25)"
   ]
  },
  {
   "cell_type": "markdown",
   "metadata": {},
   "source": [
    "### cols: time_observation and date_observation"
   ]
  },
  {
   "cell_type": "markdown",
   "metadata": {},
   "source": [
    "`time_observation` and `date_observation` are derived from `date_time`. Therefore we keep only the `date_time` column."
   ]
  },
  {
   "cell_type": "code",
   "execution_count": null,
   "metadata": {},
   "outputs": [],
   "source": [
    "wl_newdata_raw = wl_newdata_raw.drop(columns=[\"time_observation\", \"date_observation\"])"
   ]
  },
  {
   "cell_type": "markdown",
   "metadata": {},
   "source": [
    "### col: date_time"
   ]
  },
  {
   "cell_type": "code",
   "execution_count": null,
   "metadata": {},
   "outputs": [],
   "source": [
    "# wl_newdata_raw['date_time'].info()"
   ]
  },
  {
   "cell_type": "code",
   "execution_count": null,
   "metadata": {},
   "outputs": [],
   "source": [
    "# helper.check_missing_values(wl_newdata_raw['date_time'])"
   ]
  },
  {
   "cell_type": "code",
   "execution_count": null,
   "metadata": {},
   "outputs": [],
   "source": [
    "wl_newdata_raw[\"date_time\"] = wl_newdata_raw[\"date_time\"].apply(\n",
    "    lambda x: helper.remove_nondatetime(x)\n",
    ")"
   ]
  },
  {
   "cell_type": "code",
   "execution_count": null,
   "metadata": {},
   "outputs": [],
   "source": [
    "# wl_newdata_raw['date_time'].info()"
   ]
  },
  {
   "cell_type": "markdown",
   "metadata": {},
   "source": [
    "### col: am_pm_ml"
   ]
  },
  {
   "cell_type": "code",
   "execution_count": null,
   "metadata": {},
   "outputs": [],
   "source": [
    "# wl_newdata_raw['am_pm_ml'].info()"
   ]
  },
  {
   "cell_type": "code",
   "execution_count": null,
   "metadata": {},
   "outputs": [],
   "source": [
    "# helper.check_missing_values(wl_newdata_raw['am_pm_ml'])"
   ]
  },
  {
   "cell_type": "code",
   "execution_count": null,
   "metadata": {},
   "outputs": [],
   "source": [
    "# wl_newdata_raw['am_pm_ml'].unique()"
   ]
  },
  {
   "cell_type": "code",
   "execution_count": null,
   "metadata": {},
   "outputs": [],
   "source": [
    "values_mapping = {\n",
    "    3: \"3\",\n",
    "    2: \"2\",\n",
    "    \"LM\": \"ML\",\n",
    "}\n",
    "\n",
    "wl_newdata_raw[\"am_pm_ml\"] = wl_newdata_raw[\"am_pm_ml\"].replace(values_mapping)\n",
    "\n",
    "wl_newdata_raw[\"am_pm_ml\"] = wl_newdata_raw[\"am_pm_ml\"].str.strip().str.upper()"
   ]
  },
  {
   "cell_type": "markdown",
   "metadata": {},
   "source": [
    "### col: temperature"
   ]
  },
  {
   "cell_type": "code",
   "execution_count": null,
   "metadata": {},
   "outputs": [],
   "source": [
    "# wl_newdata_raw['temperature'].info()"
   ]
  },
  {
   "cell_type": "code",
   "execution_count": null,
   "metadata": {},
   "outputs": [],
   "source": [
    "# helper.check_missing_values(wl_newdata_raw['temperature'])"
   ]
  },
  {
   "cell_type": "code",
   "execution_count": null,
   "metadata": {},
   "outputs": [],
   "source": [
    "# wl_newdata_raw['temperature'].unique()"
   ]
  },
  {
   "cell_type": "code",
   "execution_count": null,
   "metadata": {},
   "outputs": [],
   "source": [
    "wl_newdata_raw[\"temperature\"] = wl_newdata_raw[\"temperature\"].apply(\n",
    "    lambda x: helper.clean_temperature(x)\n",
    ")"
   ]
  },
  {
   "cell_type": "code",
   "execution_count": null,
   "metadata": {},
   "outputs": [],
   "source": [
    "# wl_newdata_raw['temperature'].info()"
   ]
  },
  {
   "cell_type": "code",
   "execution_count": null,
   "metadata": {},
   "outputs": [],
   "source": [
    "# helper.check_range(wl_newdata_raw['temperature'])"
   ]
  },
  {
   "cell_type": "markdown",
   "metadata": {},
   "source": [
    "### col: moon_phase"
   ]
  },
  {
   "cell_type": "code",
   "execution_count": null,
   "metadata": {},
   "outputs": [],
   "source": [
    "# wl_newdata_raw['moon_phase'].info()"
   ]
  },
  {
   "cell_type": "code",
   "execution_count": null,
   "metadata": {},
   "outputs": [],
   "source": [
    "# helper.check_missing_values(wl_newdata_raw['moon_phase'])"
   ]
  },
  {
   "cell_type": "code",
   "execution_count": null,
   "metadata": {},
   "outputs": [],
   "source": [
    "# wl_newdata_raw['moon_phase'].unique()"
   ]
  },
  {
   "cell_type": "code",
   "execution_count": null,
   "metadata": {},
   "outputs": [],
   "source": [
    "wl_newdata_raw[\"moon_phase\"] = wl_newdata_raw[\"moon_phase\"].apply(\n",
    "    lambda x: helper.clean_moon_phase(x)\n",
    ")\n",
    "values_mapping = {\n",
    "    \"WAXING CRESENT\": \"WAXING CRESCENT\",\n",
    "    \"WANNING CRESCENT\": \"WANING CRESCENT\",\n",
    "}\n",
    "wl_newdata_raw[\"moon_phase\"] = wl_newdata_raw[\"moon_phase\"].replace(values_mapping)"
   ]
  },
  {
   "cell_type": "markdown",
   "metadata": {},
   "source": [
    "### col: species_category"
   ]
  },
  {
   "cell_type": "code",
   "execution_count": null,
   "metadata": {},
   "outputs": [],
   "source": [
    "# wl_newdata_raw['species_category'].info()"
   ]
  },
  {
   "cell_type": "code",
   "execution_count": null,
   "metadata": {},
   "outputs": [],
   "source": [
    "# helper.check_missing_values(wl_newdata_raw['species_category'])"
   ]
  },
  {
   "cell_type": "code",
   "execution_count": null,
   "metadata": {},
   "outputs": [],
   "source": [
    "# wl_newdata_raw['species_category'].unique()"
   ]
  },
  {
   "cell_type": "code",
   "execution_count": null,
   "metadata": {},
   "outputs": [],
   "source": [
    "wl_newdata_raw[\"species_category\"] = wl_newdata_raw[\"species_category\"].apply(\n",
    "    lambda x: helper.clean_species_category(x)\n",
    ")"
   ]
  },
  {
   "cell_type": "markdown",
   "metadata": {},
   "source": [
    "### col: species_category_2"
   ]
  },
  {
   "cell_type": "code",
   "execution_count": null,
   "metadata": {},
   "outputs": [],
   "source": [
    "# wl_newdata_raw['species_category_2'].info()"
   ]
  },
  {
   "cell_type": "code",
   "execution_count": null,
   "metadata": {},
   "outputs": [],
   "source": [
    "# helper.check_missing_values(wl_newdata_raw['species_category_2'])"
   ]
  },
  {
   "cell_type": "code",
   "execution_count": null,
   "metadata": {},
   "outputs": [],
   "source": [
    "# wl_newdata_raw['species_category_2'].unique()"
   ]
  },
  {
   "cell_type": "code",
   "execution_count": null,
   "metadata": {},
   "outputs": [],
   "source": [
    "wl_newdata_raw[\"species_category_2\"] = wl_newdata_raw[\"species_category_2\"].apply(\n",
    "    lambda x: helper.clean_species_category(x)\n",
    ")"
   ]
  },
  {
   "cell_type": "markdown",
   "metadata": {},
   "source": [
    "### col: carnivore"
   ]
  },
  {
   "cell_type": "code",
   "execution_count": null,
   "metadata": {},
   "outputs": [],
   "source": [
    "# wl_newdata_raw['carnivore'].info()"
   ]
  },
  {
   "cell_type": "code",
   "execution_count": null,
   "metadata": {},
   "outputs": [],
   "source": [
    "# helper.check_missing_values(wl_newdata_raw['carnivore'])"
   ]
  },
  {
   "cell_type": "code",
   "execution_count": null,
   "metadata": {},
   "outputs": [],
   "source": [
    "# wl_newdata_raw['carnivore'].unique()"
   ]
  },
  {
   "cell_type": "code",
   "execution_count": null,
   "metadata": {},
   "outputs": [],
   "source": [
    "wl_newdata_raw[\"carnivore\"] = wl_newdata_raw[\"carnivore\"].apply(\n",
    "    lambda x: helper.strip_lower_equalsign(x)\n",
    ")"
   ]
  },
  {
   "cell_type": "markdown",
   "metadata": {},
   "source": [
    "### col: herbivore"
   ]
  },
  {
   "cell_type": "code",
   "execution_count": null,
   "metadata": {},
   "outputs": [],
   "source": [
    "# wl_newdata_raw['herbivore'].info()"
   ]
  },
  {
   "cell_type": "code",
   "execution_count": null,
   "metadata": {},
   "outputs": [],
   "source": [
    "# helper.check_missing_values(wl_newdata_raw['herbivore'])"
   ]
  },
  {
   "cell_type": "code",
   "execution_count": null,
   "metadata": {},
   "outputs": [],
   "source": [
    "# wl_newdata_raw['herbivore'].unique()"
   ]
  },
  {
   "cell_type": "code",
   "execution_count": null,
   "metadata": {},
   "outputs": [],
   "source": [
    "wl_newdata_raw[\"herbivore\"] = wl_newdata_raw[\"herbivore\"].apply(\n",
    "    lambda x: helper.strip_lower_equalsign(x)\n",
    ")"
   ]
  },
  {
   "cell_type": "markdown",
   "metadata": {},
   "source": [
    "### col: insectivore"
   ]
  },
  {
   "cell_type": "code",
   "execution_count": null,
   "metadata": {},
   "outputs": [],
   "source": [
    "# helper.check_missing_values(wl_newdata_raw['insectivore'])"
   ]
  },
  {
   "cell_type": "code",
   "execution_count": null,
   "metadata": {},
   "outputs": [],
   "source": [
    "# wl_newdata_raw['insectivore'].unique()"
   ]
  },
  {
   "cell_type": "code",
   "execution_count": null,
   "metadata": {},
   "outputs": [],
   "source": [
    "wl_newdata_raw[\"insectivore\"] = wl_newdata_raw[\"insectivore\"].apply(\n",
    "    lambda x: helper.clean_insectivore(x)\n",
    ")"
   ]
  },
  {
   "cell_type": "markdown",
   "metadata": {},
   "source": [
    "### col: ominvore"
   ]
  },
  {
   "cell_type": "code",
   "execution_count": null,
   "metadata": {},
   "outputs": [],
   "source": [
    "# helper.check_missing_values(wl_newdata_raw['omnivore'])"
   ]
  },
  {
   "cell_type": "code",
   "execution_count": null,
   "metadata": {},
   "outputs": [],
   "source": [
    "# wl_newdata_raw['omnivore'].unique()"
   ]
  },
  {
   "cell_type": "code",
   "execution_count": null,
   "metadata": {},
   "outputs": [],
   "source": [
    "wl_newdata_raw[\"omnivore\"] = wl_newdata_raw[\"omnivore\"].apply(\n",
    "    lambda x: helper.strip_lower_equalsign(x)\n",
    ")"
   ]
  },
  {
   "cell_type": "markdown",
   "metadata": {},
   "source": [
    "### col: bird"
   ]
  },
  {
   "cell_type": "code",
   "execution_count": null,
   "metadata": {},
   "outputs": [],
   "source": [
    "# helper.check_missing_values(wl_newdata_raw['bird'])"
   ]
  },
  {
   "cell_type": "code",
   "execution_count": null,
   "metadata": {},
   "outputs": [],
   "source": [
    "# wl_newdata_raw['bird'].unique()"
   ]
  },
  {
   "cell_type": "code",
   "execution_count": null,
   "metadata": {},
   "outputs": [],
   "source": [
    "wl_newdata_raw[\"bird\"] = wl_newdata_raw[\"bird\"].apply(\n",
    "    lambda x: helper.strip_lower_equalsign(x)\n",
    ")"
   ]
  },
  {
   "cell_type": "markdown",
   "metadata": {},
   "source": [
    "### col: non_animal"
   ]
  },
  {
   "cell_type": "code",
   "execution_count": null,
   "metadata": {},
   "outputs": [],
   "source": [
    "# helper.check_missing_values(wl_newdata_raw['non_animal'])"
   ]
  },
  {
   "cell_type": "code",
   "execution_count": null,
   "metadata": {},
   "outputs": [],
   "source": [
    "# wl_newdata_raw['non_animal'].unique()"
   ]
  },
  {
   "cell_type": "code",
   "execution_count": null,
   "metadata": {},
   "outputs": [],
   "source": [
    "wl_newdata_raw[\"non_animal\"] = wl_newdata_raw[\"non_animal\"].apply(\n",
    "    lambda x: helper.strip_lower_equalsign(x)\n",
    ")\n",
    "wl_newdata_raw[\"non_animal\"] = wl_newdata_raw[\"non_animal\"].replace(\n",
    "    {\"602=vehicle\": \"602=vehicles\"}\n",
    ")"
   ]
  },
  {
   "cell_type": "markdown",
   "metadata": {},
   "source": [
    "### col: license_Plate"
   ]
  },
  {
   "cell_type": "code",
   "execution_count": null,
   "metadata": {},
   "outputs": [],
   "source": [
    "# helper.check_missing_values(wl_newdata_raw['license_plate'])"
   ]
  },
  {
   "cell_type": "code",
   "execution_count": null,
   "metadata": {},
   "outputs": [],
   "source": [
    "# wl_newdata_raw['license_plate'].unique()"
   ]
  },
  {
   "cell_type": "markdown",
   "metadata": {},
   "source": [
    "### col: unknown"
   ]
  },
  {
   "cell_type": "code",
   "execution_count": null,
   "metadata": {},
   "outputs": [],
   "source": [
    "# helper.check_missing_values(wl_newdata_raw['unknown'])"
   ]
  },
  {
   "cell_type": "code",
   "execution_count": null,
   "metadata": {},
   "outputs": [],
   "source": [
    "# wl_newdata_raw['unknown'].unique()"
   ]
  },
  {
   "cell_type": "markdown",
   "metadata": {},
   "source": [
    "### col: other"
   ]
  },
  {
   "cell_type": "code",
   "execution_count": null,
   "metadata": {},
   "outputs": [],
   "source": [
    "# helper.check_missing_values(wl_newdata_raw['other'])"
   ]
  },
  {
   "cell_type": "code",
   "execution_count": null,
   "metadata": {},
   "outputs": [],
   "source": [
    "# wl_newdata_raw['other'].unique()"
   ]
  },
  {
   "cell_type": "code",
   "execution_count": null,
   "metadata": {},
   "outputs": [],
   "source": [
    "wl_newdata_raw[\"other\"] = wl_newdata_raw[\"other\"].apply(\n",
    "    lambda x: helper.strip_lower_equalsign(x)\n",
    ")"
   ]
  },
  {
   "cell_type": "markdown",
   "metadata": {},
   "source": [
    "### col: unidentified animal"
   ]
  },
  {
   "cell_type": "code",
   "execution_count": null,
   "metadata": {},
   "outputs": [],
   "source": [
    "# helper.check_missing_values(wl_newdata_raw['unidentified_animal'])"
   ]
  },
  {
   "cell_type": "code",
   "execution_count": null,
   "metadata": {},
   "outputs": [],
   "source": [
    "# wl_newdata_raw['unidentified_animal'].unique()"
   ]
  },
  {
   "cell_type": "code",
   "execution_count": null,
   "metadata": {},
   "outputs": [],
   "source": [
    "wl_newdata_raw[\"unidentified_animal\"] = wl_newdata_raw[\"unidentified_animal\"].apply(\n",
    "    lambda x: helper.strip_lower_equalsign(x)\n",
    ")"
   ]
  },
  {
   "cell_type": "markdown",
   "metadata": {},
   "source": [
    "### col: comments"
   ]
  },
  {
   "cell_type": "code",
   "execution_count": null,
   "metadata": {},
   "outputs": [],
   "source": [
    "# helper.check_missing_values(wl_newdata_raw['comments'])"
   ]
  },
  {
   "cell_type": "code",
   "execution_count": null,
   "metadata": {},
   "outputs": [],
   "source": [
    "wl_newdata_raw[\"comments\"] = wl_newdata_raw[\"comments\"].apply(\n",
    "    lambda x: helper.strip_lower_equalsign(x)\n",
    ")"
   ]
  },
  {
   "cell_type": "markdown",
   "metadata": {},
   "source": [
    "### col: checker_initials_and_date"
   ]
  },
  {
   "cell_type": "code",
   "execution_count": null,
   "metadata": {},
   "outputs": [],
   "source": [
    "wl_newdata_raw[\"checker_initials_and_date\"] = wl_newdata_raw[\n",
    "    \"checker_initials_and_date\"\n",
    "].apply(lambda x: helper.strip_lower_equalsign(x))"
   ]
  },
  {
   "cell_type": "markdown",
   "metadata": {},
   "source": [
    "### species processed columns"
   ]
  },
  {
   "cell_type": "code",
   "execution_count": null,
   "metadata": {},
   "outputs": [],
   "source": [
    "processed_cols = [\"cid\", \"hid\", \"iid\", \"oid\", \"bid\"]\n",
    "wl_newdata_cleaned = wl_newdata_raw.drop(columns=processed_cols)"
   ]
  },
  {
   "cell_type": "markdown",
   "metadata": {},
   "source": [
    "## Export cleaned newdata"
   ]
  },
  {
   "cell_type": "code",
   "execution_count": null,
   "metadata": {},
   "outputs": [],
   "source": [
    "SAVE_DIR = \"../data\"\n",
    "os.makedirs(SAVE_DIR, exist_ok=True)\n",
    "FILE_NAME = \"cleaned_wildlife_newdata.csv\"\n",
    "path = os.path.join(SAVE_DIR, FILE_NAME)\n",
    "wl_newdata_cleaned.to_csv(path, index=False)"
   ]
  },
  {
   "cell_type": "markdown",
   "metadata": {},
   "source": [
    "# Clean _1722_ data"
   ]
  },
  {
   "cell_type": "code",
   "execution_count": null,
   "metadata": {},
   "outputs": [],
   "source": [
    "# wl_1722_raw.head()"
   ]
  },
  {
   "cell_type": "code",
   "execution_count": null,
   "metadata": {},
   "outputs": [],
   "source": [
    "# wl_1722_raw.tail()"
   ]
  },
  {
   "cell_type": "code",
   "execution_count": null,
   "metadata": {},
   "outputs": [],
   "source": [
    "# remove processed rows\n",
    "wl_1722_raw = wl_1722_raw.iloc[:-3, :]"
   ]
  },
  {
   "cell_type": "code",
   "execution_count": null,
   "metadata": {},
   "outputs": [],
   "source": [
    "# drop columns with prefix Unnamed\n",
    "wl_1722_raw = helper.drop_cols_with_prefix(wl_1722_raw, \"Unnamed:\")"
   ]
  },
  {
   "cell_type": "code",
   "execution_count": null,
   "metadata": {},
   "outputs": [],
   "source": [
    "# drop empty columns\n",
    "wl_1722_cleaned = wl_1722_raw.dropna(axis=1, how=\"all\")"
   ]
  },
  {
   "cell_type": "markdown",
   "metadata": {},
   "source": [
    "## Export cleaned 1722"
   ]
  },
  {
   "cell_type": "code",
   "execution_count": null,
   "metadata": {},
   "outputs": [],
   "source": [
    "# SAVE_DIR = \"../data\"\n",
    "# os.makedirs(SAVE_DIR, exist_ok=True)\n",
    "FILE_NAME = \"cleaned_wildlife_1722.csv\"\n",
    "path = os.path.join(SAVE_DIR, FILE_NAME)\n",
    "wl_1722_cleaned.to_csv(path, index=False)"
   ]
  }
 ],
 "metadata": {
  "kernelspec": {
   "display_name": "venv",
   "language": "python",
   "name": "python3"
  },
  "language_info": {
   "codemirror_mode": {
    "name": "ipython",
    "version": 3
   },
   "file_extension": ".py",
   "mimetype": "text/x-python",
   "name": "python",
   "nbconvert_exporter": "python",
   "pygments_lexer": "ipython3",
   "version": "3.9.18"
  }
 },
 "nbformat": 4,
 "nbformat_minor": 2
}
